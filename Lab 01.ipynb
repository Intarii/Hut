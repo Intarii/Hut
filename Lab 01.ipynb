{
  "cells": [
    {
      "cell_type": "code",
      "execution_count": 1,
      "metadata": {
        "id": "V0J7qbFzFiY-"
      },
      "outputs": [],
      "source": [
        "import tensorflow as tf\n",
        "\n",
        "import os, pathlib, warnings, urllib, shutil\n",
        "\n",
        "warnings.filterwarnings(\"ignore\")"
      ]
    },
    {
      "cell_type": "code",
      "execution_count": 2,
      "metadata": {
        "id": "2ok35wBFG2KW"
      },
      "outputs": [],
      "source": [
        "giturl = \"https://github.com/dicodingacademy/assets/releases/download/release/\"\n",
        "\n",
        "dataset = \"rockpaperscissors.zip\"\n",
        "\n",
        "urllib.request.urlretrieve(os.path.join(giturl, dataset), dataset)\n",
        "\n",
        "shutil.unpack_archive('rockpaperscissors.zip', '/content', 'zip')"
      ]
    },
    {
      "cell_type": "code",
      "execution_count": 3,
      "metadata": {
        "colab": {
          "base_uri": "https://localhost:8080/"
        },
        "id": "tyI86G3-IAEw",
        "outputId": "27670bca-7e5f-4c02-d74a-07ad6a4f88c4"
      },
      "outputs": [
        {
          "data": {
            "text/plain": [
              "4"
            ]
          },
          "execution_count": 3,
          "metadata": {},
          "output_type": "execute_result"
        }
      ],
      "source": [
        "root = \"/content/rockpaperscissors/rps-cv-images\"\n",
        "\n",
        "len(os.listdir(root))"
      ]
    },
    {
      "cell_type": "code",
      "execution_count": 4,
      "metadata": {
        "colab": {
          "base_uri": "https://localhost:8080/"
        },
        "id": "H8UmpmyQIWtQ",
        "outputId": "8fb3b0f0-f56f-48ca-ab0b-c70d6f9dcee2"
      },
      "outputs": [
        {
          "data": {
            "text/plain": [
              "['paper', 'scissors', 'rock']"
            ]
          },
          "execution_count": 4,
          "metadata": {},
          "output_type": "execute_result"
        }
      ],
      "source": [
        "os.remove(os.path.join(root, 'README_rpc-cv-images.txt'))\n",
        "\n",
        "os.listdir(root)"
      ]
    },
    {
      "cell_type": "code",
      "execution_count": null,
      "metadata": {
        "id": "5fWeX1JVJ8xA"
      },
      "outputs": [],
      "source": [
        "from tensorflow.keras.preprocessing.image import ImageDataGenerator\n",
        "\n",
        "rescale = 1.0 / 255.0\n",
        "\n",
        "valsplit = 0.3\n",
        "\n",
        "dataset = ImageDataGenerator(rescale = rescale)"
      ]
    },
    {
      "cell_type": "code",
      "execution_count": null,
      "metadata": {
        "id": "3wsPzZEnMNsn"
      },
      "outputs": [],
      "source": [
        "train = dataset(root, target_size=target_size)\n",
        "\n",
        "labeler = list(train.class_indices.keys())\n",
        "\n",
        "labeler"
      ]
    },
    {
      "cell_type": "code",
      "execution_count": null,
      "metadata": {},
      "outputs": [],
      "source": [
        "valid = dataset(root, target_size=target_size)"
      ]
    }
  ],
  "metadata": {
    "accelerator": "GPU",
    "colab": {
      "gpuType": "T4",
      "provenance": []
    },
    "kernelspec": {
      "display_name": "Python 3",
      "name": "python3"
    },
    "language_info": {
      "name": "python"
    }
  },
  "nbformat": 4,
  "nbformat_minor": 0
}
