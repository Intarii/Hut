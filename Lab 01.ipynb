{
  "nbformat": 4,
  "nbformat_minor": 0,
  "metadata": {
    "colab": {
      "provenance": [],
      "gpuType": "T4"
    },
    "kernelspec": {
      "name": "python3",
      "display_name": "Python 3"
    },
    "language_info": {
      "name": "python"
    },
    "accelerator": "GPU"
  },
  "cells": [
    {
      "cell_type": "code",
      "execution_count": 1,
      "metadata": {
        "id": "V0J7qbFzFiY-"
      },
      "outputs": [],
      "source": [
        "import tensorflow as tf\n",
        "\n",
        "import os, pathlib, warnings, urllib, shutil\n",
        "\n",
        "warnings.filterwarnings(\"ignore\")"
      ]
    },
    {
      "cell_type": "code",
      "source": [
        "giturl = \"https://github.com/dicodingacademy/assets/releases/download/release/\"\n",
        "\n",
        "dataset = \"rockpaperscissors.zip\"\n",
        "\n",
        "urllib.request.urlretrieve(os.path.join(giturl, dataset), dataset)\n",
        "\n",
        "shutil.unpack_archive('rockpaperscissors.zip', '/content', 'zip')"
      ],
      "metadata": {
        "id": "2ok35wBFG2KW"
      },
      "execution_count": 2,
      "outputs": []
    },
    {
      "cell_type": "code",
      "source": [
        "root = \"/content/rockpaperscissors/rps-cv-images\"\n",
        "\n",
        "len(os.listdir(root))"
      ],
      "metadata": {
        "colab": {
          "base_uri": "https://localhost:8080/"
        },
        "id": "tyI86G3-IAEw",
        "outputId": "27670bca-7e5f-4c02-d74a-07ad6a4f88c4"
      },
      "execution_count": 3,
      "outputs": [
        {
          "output_type": "execute_result",
          "data": {
            "text/plain": [
              "4"
            ]
          },
          "metadata": {},
          "execution_count": 3
        }
      ]
    },
    {
      "cell_type": "code",
      "source": [
        "os.remove(os.path.join(root, 'README_rpc-cv-images.txt'))\n",
        "\n",
        "os.listdir(root)"
      ],
      "metadata": {
        "colab": {
          "base_uri": "https://localhost:8080/"
        },
        "id": "H8UmpmyQIWtQ",
        "outputId": "8fb3b0f0-f56f-48ca-ab0b-c70d6f9dcee2"
      },
      "execution_count": 4,
      "outputs": [
        {
          "output_type": "execute_result",
          "data": {
            "text/plain": [
              "['paper', 'scissors', 'rock']"
            ]
          },
          "metadata": {},
          "execution_count": 4
        }
      ]
    },
    {
      "cell_type": "code",
      "source": [
        "from tensorflow.keras.preprocessing.image import ImageDataGenerator\n",
        "\n",
        "rescale = 1.0 / 255.0\n",
        "\n",
        "valsplit = 0.3\n",
        "\n",
        "dataset = ImageDataGenerator(rescale = rescale)"
      ],
      "metadata": {
        "id": "5fWeX1JVJ8xA"
      },
      "execution_count": null,
      "outputs": []
    },
    {
      "cell_type": "code",
      "source": [
        "train = dataset(root, target_size=target_size)\n",
        "\n",
        "valid = dataset(root, target_size=target_size)"
      ],
      "metadata": {
        "id": "3wsPzZEnMNsn"
      },
      "execution_count": null,
      "outputs": []
    }
  ]
}